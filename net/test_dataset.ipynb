{
 "cells": [
  {
   "cell_type": "code",
   "execution_count": 1,
   "metadata": {},
   "outputs": [],
   "source": [
    "import pandas as pd\n",
    "import torch\n",
    "import torch.utils.data as data\n",
    "import numpy as np\n",
    "import torchvision.transforms as transforms\n",
    "\n",
    "\n",
    "class CK(data.Dataset):\n",
    "    def __init__(self, mode):\n",
    "        self.mode = mode\n",
    "        self.train_set = []\n",
    "        self.validation_set = []\n",
    "        self.test_set = []\n",
    "\n",
    "        \n",
    "        db = pd.read_csv('./dataset/ckextended.csv', delimiter=',')\n",
    "\n",
    "        #Carico, a partire dal file csv, le immagini da utilizzare per addestrare la rete\n",
    "        db_train = db[db['Usage'] == 'Training']\n",
    "        db_train.drop('Usage', axis=1)\n",
    "\n",
    "        db_validation = db[db['Usage'] == 'PrivateTest']\n",
    "        db_validation.drop('Usage', axis=1)\n",
    "\n",
    "        db_test = db[db['Usage'] == 'PublicTest']\n",
    "        db_test.drop('Usage', axis=1)\n",
    "\n",
    "        # Creo i vettori che conterranno il training e testing set\n",
    "        self.label_train = [label for label in db_train['emotion']]\n",
    "        self.label_validation = [label for label in db_validation['emotion']]\n",
    "        self.label_test = [label for label in db_test['emotion']]\n",
    "\n",
    "        for img in db_train['pixels']:\n",
    "            tmp = []\n",
    "            for pixel in img.split(' '):\n",
    "                tmp.append(int(pixel))\n",
    "            self.train_set.append(tmp)\n",
    "\n",
    "        for img in db_validation['pixels']:\n",
    "            tmp = []\n",
    "            for pixel in img.split(' '):\n",
    "                tmp.append(int(pixel))\n",
    "            self.validation_set.append(tmp)\n",
    "\n",
    "        for img in db_test['pixels']:\n",
    "            tmp = []\n",
    "            for pixel in img.split(' '):\n",
    "                tmp.append(int(pixel))\n",
    "            self.test_set.append(tmp)\n",
    "    \n",
    "    \n",
    "    def __getitem__(self, index):\n",
    "        \n",
    "        if self.mode == 'Training':\n",
    "            img, label = self.train_set[index], self.label_train[index]\n",
    "        \n",
    "        if self.mode == 'Testing':\n",
    "            img, label = self.test_set[index], self.label_test[index]\n",
    "            \n",
    "        if self.mode == 'Validation':\n",
    "            img, label = self.validation_set[index], self.validation_set[index]\n",
    "\n",
    "        img = np.array(img, dtype=float)\n",
    "        img = img.reshape((1, 48, 48))\n",
    "        img = np.concatenate((img, img, img), axis=0)\n",
    "        img = torch.tensor(img, dtype=torch.float)\n",
    "        \n",
    "        return img, label\n",
    "\n",
    "    def __len__(self):\n",
    "        if self.mode == 'Training':\n",
    "            return len(self.train_set)\n",
    "        if self.mode == 'Testing':\n",
    "            return len(self.test_set)\n",
    "        if self.mode == 'Validation':\n",
    "            return len(self.validation_set)"
   ]
  },
  {
   "cell_type": "code",
   "execution_count": 2,
   "metadata": {},
   "outputs": [],
   "source": [
    "import torch\n",
    "\n",
    "train = CK('Training')\n",
    "trainloader = torch.utils.data.DataLoader(train, batch_size=128, shuffle=True, num_workers=1)\n",
    "\n",
    "test = CK('Testing')\n",
    "testloader = torch.utils.data.DataLoader(test, batch_size=5, shuffle=False, num_workers=1)\n"
   ]
  },
  {
   "cell_type": "code",
   "execution_count": 3,
   "metadata": {},
   "outputs": [],
   "source": [
    "from VGG import VGG19\n",
    "import torch.nn as nn\n",
    "import torch.optim as optim\n",
    "net = VGG19()\n",
    "\n",
    "if torch.cuda.is_available():\n",
    "    net.cuda()\n",
    "    \n",
    "criterion = nn.CrossEntropyLoss()\n",
    "optimizer = optim.SGD(net.parameters(), lr=0.01, momentum=0.9, weight_decay=5e-4)\n"
   ]
  },
  {
   "cell_type": "code",
   "execution_count": 4,
   "metadata": {},
   "outputs": [],
   "source": [
    "def train(epoch):\n",
    "    print(\"Epoca:\" + str(epoch))\n",
    "    \n",
    "    net.train()\n",
    "    \n",
    "    for batch_id, (inputs, labels) in enumerate(trainloader):\n",
    "        \n",
    "        inputs, labels = inputs.cuda(), labels.cuda()\n",
    "        print(inputs.shape)\n",
    "    \n",
    "        # Azzeramento dei gradienti\n",
    "        optimizer.zero_grad()\n",
    "        \n",
    "        # Forward pass\n",
    "        outputs = net(inputs)\n",
    "        \n",
    "        # Calcolo della loss\n",
    "        loss = criterion(outputs, labels)\n",
    "        \n",
    "        # Calcolo dei gradienti\n",
    "        loss.backward()\n",
    "        \n",
    "        # Aggiornamento dei parametri\n",
    "        optimizer.step()\n",
    "         "
   ]
  },
  {
   "cell_type": "code",
   "execution_count": 5,
   "metadata": {},
   "outputs": [
    {
     "name": "stdout",
     "output_type": "stream",
     "text": [
      "Epoca:0\n",
      "torch.Size([128, 3, 48, 48])\n"
     ]
    },
    {
     "name": "stderr",
     "output_type": "stream",
     "text": [
      "../aten/src/ATen/native/cuda/Loss.cu:240: nll_loss_forward_reduce_cuda_kernel_2d: block: [0,0,0], thread: [12,0,0] Assertion `t >= 0 && t < n_classes` failed.\n"
     ]
    },
    {
     "ename": "RuntimeError",
     "evalue": "CUDA error: device-side assert triggered\nCUDA kernel errors might be asynchronously reported at some other API call, so the stacktrace below might be incorrect.\nFor debugging consider passing CUDA_LAUNCH_BLOCKING=1.\nCompile with `TORCH_USE_CUDA_DSA` to enable device-side assertions.\n",
     "output_type": "error",
     "traceback": [
      "\u001b[0;31m---------------------------------------------------------------------------\u001b[0m",
      "\u001b[0;31mRuntimeError\u001b[0m                              Traceback (most recent call last)",
      "Cell \u001b[0;32mIn[5], line 2\u001b[0m\n\u001b[1;32m      1\u001b[0m \u001b[39mfor\u001b[39;00m epoch \u001b[39min\u001b[39;00m \u001b[39mrange\u001b[39m(\u001b[39m0\u001b[39m, \u001b[39m5\u001b[39m):\n\u001b[0;32m----> 2\u001b[0m     train(epoch)\n\u001b[1;32m      3\u001b[0m     test(epoch)\n",
      "Cell \u001b[0;32mIn[4], line 21\u001b[0m, in \u001b[0;36mtrain\u001b[0;34m(epoch)\u001b[0m\n\u001b[1;32m     18\u001b[0m loss \u001b[39m=\u001b[39m criterion(outputs, labels)\n\u001b[1;32m     20\u001b[0m \u001b[39m# Calcolo dei gradienti\u001b[39;00m\n\u001b[0;32m---> 21\u001b[0m loss\u001b[39m.\u001b[39;49mbackward()\n\u001b[1;32m     23\u001b[0m \u001b[39m# Aggiornamento dei parametri\u001b[39;00m\n\u001b[1;32m     24\u001b[0m optimizer\u001b[39m.\u001b[39mstep()\n",
      "File \u001b[0;32m/usr/local/lib/python3.8/dist-packages/torch/_tensor.py:487\u001b[0m, in \u001b[0;36mTensor.backward\u001b[0;34m(self, gradient, retain_graph, create_graph, inputs)\u001b[0m\n\u001b[1;32m    477\u001b[0m \u001b[39mif\u001b[39;00m has_torch_function_unary(\u001b[39mself\u001b[39m):\n\u001b[1;32m    478\u001b[0m     \u001b[39mreturn\u001b[39;00m handle_torch_function(\n\u001b[1;32m    479\u001b[0m         Tensor\u001b[39m.\u001b[39mbackward,\n\u001b[1;32m    480\u001b[0m         (\u001b[39mself\u001b[39m,),\n\u001b[0;32m   (...)\u001b[0m\n\u001b[1;32m    485\u001b[0m         inputs\u001b[39m=\u001b[39minputs,\n\u001b[1;32m    486\u001b[0m     )\n\u001b[0;32m--> 487\u001b[0m torch\u001b[39m.\u001b[39;49mautograd\u001b[39m.\u001b[39;49mbackward(\n\u001b[1;32m    488\u001b[0m     \u001b[39mself\u001b[39;49m, gradient, retain_graph, create_graph, inputs\u001b[39m=\u001b[39;49minputs\n\u001b[1;32m    489\u001b[0m )\n",
      "File \u001b[0;32m/usr/local/lib/python3.8/dist-packages/torch/autograd/__init__.py:200\u001b[0m, in \u001b[0;36mbackward\u001b[0;34m(tensors, grad_tensors, retain_graph, create_graph, grad_variables, inputs)\u001b[0m\n\u001b[1;32m    195\u001b[0m     retain_graph \u001b[39m=\u001b[39m create_graph\n\u001b[1;32m    197\u001b[0m \u001b[39m# The reason we repeat same the comment below is that\u001b[39;00m\n\u001b[1;32m    198\u001b[0m \u001b[39m# some Python versions print out the first line of a multi-line function\u001b[39;00m\n\u001b[1;32m    199\u001b[0m \u001b[39m# calls in the traceback and some print out the last line\u001b[39;00m\n\u001b[0;32m--> 200\u001b[0m Variable\u001b[39m.\u001b[39;49m_execution_engine\u001b[39m.\u001b[39;49mrun_backward(  \u001b[39m# Calls into the C++ engine to run the backward pass\u001b[39;49;00m\n\u001b[1;32m    201\u001b[0m     tensors, grad_tensors_, retain_graph, create_graph, inputs,\n\u001b[1;32m    202\u001b[0m     allow_unreachable\u001b[39m=\u001b[39;49m\u001b[39mTrue\u001b[39;49;00m, accumulate_grad\u001b[39m=\u001b[39;49m\u001b[39mTrue\u001b[39;49;00m)\n",
      "\u001b[0;31mRuntimeError\u001b[0m: CUDA error: device-side assert triggered\nCUDA kernel errors might be asynchronously reported at some other API call, so the stacktrace below might be incorrect.\nFor debugging consider passing CUDA_LAUNCH_BLOCKING=1.\nCompile with `TORCH_USE_CUDA_DSA` to enable device-side assertions.\n"
     ]
    }
   ],
   "source": [
    "for epoch in range(0, 5):\n",
    "    train(epoch)\n",
    "    test(epoch)"
   ]
  }
 ],
 "metadata": {
  "kernelspec": {
   "display_name": "Python 3",
   "language": "python",
   "name": "python3"
  },
  "language_info": {
   "codemirror_mode": {
    "name": "ipython",
    "version": 3
   },
   "file_extension": ".py",
   "mimetype": "text/x-python",
   "name": "python",
   "nbconvert_exporter": "python",
   "pygments_lexer": "ipython3",
   "version": "3.8.10"
  },
  "orig_nbformat": 4,
  "vscode": {
   "interpreter": {
    "hash": "e7370f93d1d0cde622a1f8e1c04877d8463912d04d973331ad4851f04de6915a"
   }
  }
 },
 "nbformat": 4,
 "nbformat_minor": 2
}
