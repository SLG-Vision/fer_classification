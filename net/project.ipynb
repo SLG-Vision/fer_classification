{
 "cells": [
  {
   "cell_type": "code",
   "execution_count": 1,
   "metadata": {},
   "outputs": [
    {
     "data": {
      "text/plain": [
       "Training       734\n",
       "PrivateTest     95\n",
       "PublicTest      91\n",
       "Name: Usage, dtype: int64"
      ]
     },
     "execution_count": 1,
     "metadata": {},
     "output_type": "execute_result"
    }
   ],
   "source": [
    "import pandas as pd\n",
    "db = pd.read_csv('./dataset/ckextended.csv', delimiter=',')\n",
    "db['Usage'].value_counts()"
   ]
  },
  {
   "cell_type": "code",
   "execution_count": 2,
   "metadata": {},
   "outputs": [
    {
     "name": "stdout",
     "output_type": "stream",
     "text": [
      "<class 'pandas.core.frame.DataFrame'>\n",
      "RangeIndex: 920 entries, 0 to 919\n",
      "Data columns (total 3 columns):\n",
      " #   Column   Non-Null Count  Dtype \n",
      "---  ------   --------------  ----- \n",
      " 0   emotion  920 non-null    int64 \n",
      " 1   pixels   920 non-null    object\n",
      " 2   Usage    920 non-null    object\n",
      "dtypes: int64(1), object(2)\n",
      "memory usage: 21.7+ KB\n"
     ]
    }
   ],
   "source": [
    "db.info()"
   ]
  },
  {
   "cell_type": "code",
   "execution_count": 3,
   "metadata": {},
   "outputs": [
    {
     "data": {
      "text/html": [
       "<div>\n",
       "<style scoped>\n",
       "    .dataframe tbody tr th:only-of-type {\n",
       "        vertical-align: middle;\n",
       "    }\n",
       "\n",
       "    .dataframe tbody tr th {\n",
       "        vertical-align: top;\n",
       "    }\n",
       "\n",
       "    .dataframe thead th {\n",
       "        text-align: right;\n",
       "    }\n",
       "</style>\n",
       "<table border=\"1\" class=\"dataframe\">\n",
       "  <thead>\n",
       "    <tr style=\"text-align: right;\">\n",
       "      <th></th>\n",
       "      <th>emotion</th>\n",
       "      <th>pixels</th>\n",
       "    </tr>\n",
       "  </thead>\n",
       "  <tbody>\n",
       "    <tr>\n",
       "      <th>474</th>\n",
       "      <td>6</td>\n",
       "      <td>11 7 6 2 7 7 0 0 0 6 20 45 62 91 117 134 148 1...</td>\n",
       "    </tr>\n",
       "    <tr>\n",
       "      <th>475</th>\n",
       "      <td>6</td>\n",
       "      <td>59 66 63 64 64 65 36 11 15 15 12 20 35 49 88 1...</td>\n",
       "    </tr>\n",
       "    <tr>\n",
       "      <th>476</th>\n",
       "      <td>6</td>\n",
       "      <td>52 53 55 47 31 23 22 26 14 20 18 25 24 41 83 1...</td>\n",
       "    </tr>\n",
       "    <tr>\n",
       "      <th>477</th>\n",
       "      <td>6</td>\n",
       "      <td>77 76 44 28 17 14 8 9 7 7 10 12 18 8 12 41 52 ...</td>\n",
       "    </tr>\n",
       "    <tr>\n",
       "      <th>478</th>\n",
       "      <td>6</td>\n",
       "      <td>153 156 114 114 111 81 110 148 137 109 145 165...</td>\n",
       "    </tr>\n",
       "    <tr>\n",
       "      <th>...</th>\n",
       "      <td>...</td>\n",
       "      <td>...</td>\n",
       "    </tr>\n",
       "    <tr>\n",
       "      <th>906</th>\n",
       "      <td>5</td>\n",
       "      <td>43 39 41 42 14 13 10 15 21 23 18 18 17 14 15 1...</td>\n",
       "    </tr>\n",
       "    <tr>\n",
       "      <th>907</th>\n",
       "      <td>5</td>\n",
       "      <td>201 198 194 172 59 61 74 52 73 107 67 67 102 1...</td>\n",
       "    </tr>\n",
       "    <tr>\n",
       "      <th>908</th>\n",
       "      <td>5</td>\n",
       "      <td>69 71 74 75 24 1 0 2 6 6 3 1 3 5 24 16 12 17 2...</td>\n",
       "    </tr>\n",
       "    <tr>\n",
       "      <th>909</th>\n",
       "      <td>5</td>\n",
       "      <td>79 81 82 82 84 86 85 80 80 40 27 26 40 61 69 6...</td>\n",
       "    </tr>\n",
       "    <tr>\n",
       "      <th>910</th>\n",
       "      <td>5</td>\n",
       "      <td>53 43 52 52 37 53 56 37 96 71 95 38 31 85 101 ...</td>\n",
       "    </tr>\n",
       "  </tbody>\n",
       "</table>\n",
       "<p>91 rows × 2 columns</p>\n",
       "</div>"
      ],
      "text/plain": [
       "     emotion                                             pixels\n",
       "474        6  11 7 6 2 7 7 0 0 0 6 20 45 62 91 117 134 148 1...\n",
       "475        6  59 66 63 64 64 65 36 11 15 15 12 20 35 49 88 1...\n",
       "476        6  52 53 55 47 31 23 22 26 14 20 18 25 24 41 83 1...\n",
       "477        6  77 76 44 28 17 14 8 9 7 7 10 12 18 8 12 41 52 ...\n",
       "478        6  153 156 114 114 111 81 110 148 137 109 145 165...\n",
       "..       ...                                                ...\n",
       "906        5  43 39 41 42 14 13 10 15 21 23 18 18 17 14 15 1...\n",
       "907        5  201 198 194 172 59 61 74 52 73 107 67 67 102 1...\n",
       "908        5  69 71 74 75 24 1 0 2 6 6 3 1 3 5 24 16 12 17 2...\n",
       "909        5  79 81 82 82 84 86 85 80 80 40 27 26 40 61 69 6...\n",
       "910        5  53 43 52 52 37 53 56 37 96 71 95 38 31 85 101 ...\n",
       "\n",
       "[91 rows x 2 columns]"
      ]
     },
     "execution_count": 3,
     "metadata": {},
     "output_type": "execute_result"
    }
   ],
   "source": [
    "db_train = db[db['Usage'] == 'Training']\n",
    "db_train.drop('Usage', axis=1)\n",
    "\n",
    "db_validation = db[db['Usage'] == 'PrivateTest']\n",
    "db_validation.drop('Usage', axis=1)\n",
    "\n",
    "db_test = db[db['Usage'] == 'PublicTest']\n",
    "db_test.drop('Usage', axis=1)"
   ]
  },
  {
   "cell_type": "code",
   "execution_count": 4,
   "metadata": {},
   "outputs": [],
   "source": [
    "from PIL import Image\n",
    "import numpy as np\n",
    "listona = list(map(int, db_train['pixels'][0].split(' ')))\n"
   ]
  },
  {
   "cell_type": "code",
   "execution_count": 5,
   "metadata": {},
   "outputs": [],
   "source": [
    "X_train = []\n",
    "y_train = [label for label in db_train['emotion']]\n",
    "\n",
    "for img in db_train['pixels']:\n",
    "    tmp = []\n",
    "    for pixel in img.split(' '):\n",
    "        tmp.append(int(pixel))\n",
    "    X_train.append(tmp)"
   ]
  },
  {
   "cell_type": "code",
   "execution_count": 6,
   "metadata": {},
   "outputs": [
    {
     "name": "stdout",
     "output_type": "stream",
     "text": [
      "734 734\n"
     ]
    }
   ],
   "source": [
    "print(len(X_train), len(y_train))"
   ]
  },
  {
   "cell_type": "code",
   "execution_count": 7,
   "metadata": {},
   "outputs": [],
   "source": [
    "import torch\n",
    "X_train = torch.tensor(X_train, dtype=int)\n",
    "y_train = torch.tensor(y_train, dtype=int)"
   ]
  },
  {
   "cell_type": "code",
   "execution_count": 5,
   "metadata": {},
   "outputs": [],
   "source": [
    "from VGG import VGG19\n",
    "import torch\n",
    "import torch.nn as nn\n",
    "import torch.optim as optim\n",
    "net = VGG19()\n",
    "\n",
    "if torch.cuda.is_available():\n",
    "    net.cuda()\n",
    "    \n",
    "criterion = nn.CrossEntropyLoss()\n",
    "optimizer = optim.SGD(net.parameters(), lr=0.01, momentum=0.9, weight_decay=5e-4)\n"
   ]
  },
  {
   "cell_type": "code",
   "execution_count": 6,
   "metadata": {},
   "outputs": [],
   "source": [
    "from ck import CK\n",
    "\n",
    "train = CK('Training')\n",
    "trainloader = torch.utils.data.DataLoader(train, batch_size=128, shuffle=True, num_workers=1)\n",
    "\n",
    "test = CK('Testing')\n",
    "testloader = torch.utils.data.DataLoader(test, batch_size=5, shuffle=False, num_workers=1)\n"
   ]
  },
  {
   "cell_type": "code",
   "execution_count": 7,
   "metadata": {},
   "outputs": [],
   "source": [
    "\n",
    "def train(epoch):\n",
    "    print(\"Epoca:\" + str(epoch))\n",
    "    \n",
    "    net.train()\n",
    "    \n",
    "    for inputs, labels in enumerate(trainloader):\n",
    "        \n",
    "        inputs, labels = inputs.cuda(), labels.cuda()\n",
    "        \n",
    "    \n",
    "        # Azzeramento dei gradienti\n",
    "        optimizer.zero_grad()\n",
    "        \n",
    "        # Forward pass\n",
    "        outputs = net(inputs)\n",
    "        \n",
    "        # Calcolo della loss\n",
    "        loss = criterion(outputs, labels)\n",
    "        \n",
    "        # Calcolo dei gradienti\n",
    "        loss.backward()\n",
    "        \n",
    "        # Aggiornamento dei parametri\n",
    "        optimizer.step()\n",
    "         \n",
    "    \"\"\"with torch.no_grad():\n",
    "        correct = 0\n",
    "        total = 0\n",
    "        for inputs, labels in validation_dataloader:\n",
    "            outputs = net(inputs)\n",
    "            _, predicted = torch.max(outputs.data, 1)\n",
    "            total += labels.size(0)\n",
    "            correct += (predicted == labels).sum().item()\n",
    "        accuracy = correct / total\"\"\"\n",
    "        \n",
    "    #print(f\"Loss{loss.item()} , Accuracy{accuracy}\")\n",
    "    \n",
    "def test(epoch):\n",
    "    pass\n",
    "\n"
   ]
  },
  {
   "cell_type": "code",
   "execution_count": 8,
   "metadata": {},
   "outputs": [
    {
     "name": "stdout",
     "output_type": "stream",
     "text": [
      "Epoca:0\n"
     ]
    },
    {
     "ename": "AttributeError",
     "evalue": "'int' object has no attribute 'cuda'",
     "output_type": "error",
     "traceback": [
      "\u001b[0;31m---------------------------------------------------------------------------\u001b[0m",
      "\u001b[0;31mAttributeError\u001b[0m                            Traceback (most recent call last)",
      "Cell \u001b[0;32mIn[8], line 2\u001b[0m\n\u001b[1;32m      1\u001b[0m \u001b[39mfor\u001b[39;00m epoch \u001b[39min\u001b[39;00m \u001b[39mrange\u001b[39m(\u001b[39m0\u001b[39m, \u001b[39m5\u001b[39m):\n\u001b[0;32m----> 2\u001b[0m     train(epoch)\n\u001b[1;32m      3\u001b[0m     test(epoch)\n",
      "Cell \u001b[0;32mIn[7], line 8\u001b[0m, in \u001b[0;36mtrain\u001b[0;34m(epoch)\u001b[0m\n\u001b[1;32m      4\u001b[0m net\u001b[39m.\u001b[39mtrain()\n\u001b[1;32m      6\u001b[0m \u001b[39mfor\u001b[39;00m inputs, labels \u001b[39min\u001b[39;00m \u001b[39menumerate\u001b[39m(trainloader):\n\u001b[0;32m----> 8\u001b[0m     inputs, labels \u001b[39m=\u001b[39m inputs\u001b[39m.\u001b[39;49mcuda(), labels\u001b[39m.\u001b[39mcuda()\n\u001b[1;32m     11\u001b[0m     \u001b[39m# Azzeramento dei gradienti\u001b[39;00m\n\u001b[1;32m     12\u001b[0m     optimizer\u001b[39m.\u001b[39mzero_grad()\n",
      "\u001b[0;31mAttributeError\u001b[0m: 'int' object has no attribute 'cuda'"
     ]
    }
   ],
   "source": [
    "for epoch in range(0, 5):\n",
    "    train(epoch)\n",
    "    test(epoch)"
   ]
  },
  {
   "cell_type": "code",
   "execution_count": null,
   "metadata": {},
   "outputs": [],
   "source": []
  }
 ],
 "metadata": {
  "kernelspec": {
   "display_name": "Python 3",
   "language": "python",
   "name": "python3"
  },
  "language_info": {
   "codemirror_mode": {
    "name": "ipython",
    "version": 3
   },
   "file_extension": ".py",
   "mimetype": "text/x-python",
   "name": "python",
   "nbconvert_exporter": "python",
   "pygments_lexer": "ipython3",
   "version": "3.8.10"
  },
  "orig_nbformat": 4,
  "vscode": {
   "interpreter": {
    "hash": "e7370f93d1d0cde622a1f8e1c04877d8463912d04d973331ad4851f04de6915a"
   }
  }
 },
 "nbformat": 4,
 "nbformat_minor": 2
}
